{
 "cells": [
  {
   "cell_type": "code",
   "execution_count": null,
   "id": "afb8389e",
   "metadata": {},
   "outputs": [],
   "source": [
    "import cv2"
   ]
  },
  {
   "cell_type": "code",
   "execution_count": null,
   "id": "3af2d748",
   "metadata": {},
   "outputs": [],
   "source": [
    "from matplotlib import pyplot as plt"
   ]
  },
  {
   "cell_type": "code",
   "execution_count": null,
   "id": "e3069332",
   "metadata": {},
   "outputs": [],
   "source": [
    "import numpy as np"
   ]
  },
  {
   "cell_type": "code",
   "execution_count": null,
   "id": "9e35abd5",
   "metadata": {},
   "outputs": [],
   "source": [
    "video_path = \"/path/to/video\""
   ]
  },
  {
   "cell_type": "code",
   "execution_count": null,
   "id": "11318765",
   "metadata": {},
   "outputs": [],
   "source": [
    "cap = cv2.VideoCapture(video_path)\n",
    "\n",
    "video = []\n",
    "\n",
    "while cap.isOpened():\n",
    "    ret, frame = cap.read()\n",
    "    # if frame is read correctly ret is True\n",
    "    if not ret:\n",
    "        print(\"Can't receive frame (stream end?). Exiting ...\")\n",
    "        break\n",
    "    video.append(frame)\n",
    "\n",
    "cap.release()"
   ]
  },
  {
   "cell_type": "code",
   "execution_count": null,
   "id": "4955a156",
   "metadata": {},
   "outputs": [],
   "source": [
    "len(video)"
   ]
  },
  {
   "cell_type": "code",
   "execution_count": null,
   "id": "97cb7910",
   "metadata": {
    "scrolled": false
   },
   "outputs": [],
   "source": [
    "plt.imshow(video[0])"
   ]
  },
  {
   "cell_type": "code",
   "execution_count": null,
   "id": "147d7855",
   "metadata": {},
   "outputs": [],
   "source": [
    "# calculate optical flow\n",
    "\n",
    "prev_frame = cv2.cvtColor(video[0], cv2.COLOR_BGR2GRAY)\n",
    "flow = []\n",
    "for next_frame in video[1:]:\n",
    "    next_frame = cv2.cvtColor(next_frame, cv2.COLOR_BGR2GRAY)\n",
    "    flow.append(\n",
    "        cv2.calcOpticalFlowFarneback(\n",
    "            prev_frame, next_frame, None, 0.5, 3, 32, 3, 5, 1.2, 0\n",
    "        )\n",
    "    )\n",
    "    prev_frame = next_frame"
   ]
  },
  {
   "cell_type": "code",
   "execution_count": null,
   "id": "dd621399",
   "metadata": {
    "scrolled": false
   },
   "outputs": [],
   "source": [
    "def track_point(flow, track_point, win_sz=10):\n",
    "    track_point = np.array(track_point, dtype=np.float64)\n",
    "    trajectory = [track_point]\n",
    "\n",
    "    for i, ff in enumerate(flow):\n",
    "        y, x = (\n",
    "            int(track_point[1]),\n",
    "            int(track_point[0]),\n",
    "        )\n",
    "        shift = ff[y : y + win_sz, x : x + win_sz, :]\n",
    "        shift = np.mean(shift, axis=(0, 1))\n",
    "        track_point = track_point + shift\n",
    "        trajectory.append(track_point)\n",
    "\n",
    "    return trajectory"
   ]
  },
  {
   "cell_type": "code",
   "execution_count": null,
   "id": "3ca4b794",
   "metadata": {},
   "outputs": [],
   "source": [
    "p0 = np.array((600, 1000))\n",
    "trajectory_p0 = track_point(flow, p0)"
   ]
  },
  {
   "cell_type": "code",
   "execution_count": null,
   "id": "e6b5b68d",
   "metadata": {
    "scrolled": false
   },
   "outputs": [],
   "source": [
    "p1 = np.array((640, 850))\n",
    "trajectory_p1 = track_point(flow, p1)"
   ]
  },
  {
   "cell_type": "code",
   "execution_count": null,
   "id": "95e728ff",
   "metadata": {},
   "outputs": [],
   "source": [
    "for i in [0, len(trajectory_p0) - 1]:\n",
    "    img = cv2.cvtColor(cv2.cvtColor(video[i], cv2.COLOR_BGR2GRAY), cv2.COLOR_GRAY2BGR)\n",
    "    for p in [trajectory_p0, trajectory_p1]:\n",
    "        img = cv2.circle(img, p[i].astype(np.int32), 10, (255, 0, 0), thickness=-1)\n",
    "    plt.imshow(img)\n",
    "    plt.show()"
   ]
  },
  {
   "cell_type": "code",
   "execution_count": null,
   "id": "c4b8fd99",
   "metadata": {},
   "outputs": [],
   "source": [
    "len(trajectory_p1)"
   ]
  },
  {
   "cell_type": "code",
   "execution_count": null,
   "id": "74948fce",
   "metadata": {},
   "outputs": [],
   "source": [
    "len(video)"
   ]
  },
  {
   "cell_type": "code",
   "execution_count": null,
   "id": "01553b51",
   "metadata": {},
   "outputs": [],
   "source": [
    "def gamma_correction(src, gamma):\n",
    "    img = src / 256.0\n",
    "    img = img**gamma\n",
    "    img = img * 256.0\n",
    "    return img"
   ]
  },
  {
   "cell_type": "code",
   "execution_count": null,
   "id": "537daddd",
   "metadata": {},
   "outputs": [],
   "source": [
    "gamma = 2.2"
   ]
  },
  {
   "cell_type": "code",
   "execution_count": null,
   "id": "1a81e87c",
   "metadata": {},
   "outputs": [],
   "source": [
    "final_image = gamma_correction(video[0].astype(np.float64), gamma=1 / gamma)\n",
    "denominator = np.ones(video[0].shape[:2], dtype=np.float64)\n",
    "mask = np.ones(video[0].shape[:2], dtype=np.float64)\n",
    "\n",
    "for i in range(1, len(video)):\n",
    "    h, w, _ = video[i].shape\n",
    "    m, _ = cv2.estimateAffinePartial2D(\n",
    "        np.stack([p0, p1]), np.stack([trajectory_p0[i], trajectory_p1[i]])\n",
    "    )\n",
    "    img_tr = cv2.warpAffine(\n",
    "        gamma_correction(video[i], gamma=1 / gamma), m, dsize=(w, h)\n",
    "    )\n",
    "    final_image += img_tr.astype(np.float64)\n",
    "    mask_tr = cv2.warpAffine(mask, m, dsize=(w, h))\n",
    "    denominator += mask_tr"
   ]
  },
  {
   "cell_type": "code",
   "execution_count": null,
   "id": "7a9b76fa",
   "metadata": {},
   "outputs": [],
   "source": [
    "img_tr.min(), img_tr.max()"
   ]
  },
  {
   "cell_type": "code",
   "execution_count": null,
   "id": "3c749b48",
   "metadata": {},
   "outputs": [],
   "source": [
    "v = gamma_correction(img_tr.astype(np.float64), gamma=1 / gamma)\n",
    "v.min(), v.max()"
   ]
  },
  {
   "cell_type": "code",
   "execution_count": null,
   "id": "574e16b5",
   "metadata": {},
   "outputs": [],
   "source": [
    "final_image = final_image / denominator[..., np.newaxis]"
   ]
  },
  {
   "cell_type": "code",
   "execution_count": null,
   "id": "0ab5c46f",
   "metadata": {},
   "outputs": [],
   "source": [
    "final_image.min(), final_image.max()"
   ]
  },
  {
   "cell_type": "code",
   "execution_count": null,
   "id": "cc48456d",
   "metadata": {},
   "outputs": [],
   "source": [
    "final_image = gamma_correction(final_image, gamma=gamma)"
   ]
  },
  {
   "cell_type": "code",
   "execution_count": null,
   "id": "e3fae982",
   "metadata": {},
   "outputs": [],
   "source": [
    "final_image = final_image / 256.0"
   ]
  },
  {
   "cell_type": "code",
   "execution_count": null,
   "id": "09491ac2",
   "metadata": {},
   "outputs": [],
   "source": [
    "# convert to 16 bit uint image\n",
    "final_image = final_image * 256 * 256\n",
    "final_image = final_image.astype(np.uint16)"
   ]
  },
  {
   "cell_type": "code",
   "execution_count": null,
   "id": "fa01dd19",
   "metadata": {},
   "outputs": [],
   "source": [
    "cv2.imwrite(\"log_exposure.tiff\", final_image)"
   ]
  },
  {
   "cell_type": "code",
   "execution_count": null,
   "id": "37dfe7b9",
   "metadata": {},
   "outputs": [],
   "source": [
    "plt.imshow(final_image)"
   ]
  }
 ],
 "metadata": {
  "kernelspec": {
   "display_name": "Python 3 (ipykernel)",
   "language": "python",
   "name": "python3"
  },
  "language_info": {
   "codemirror_mode": {
    "name": "ipython",
    "version": 3
   },
   "file_extension": ".py",
   "mimetype": "text/x-python",
   "name": "python",
   "nbconvert_exporter": "python",
   "pygments_lexer": "ipython3",
   "version": "3.10.6"
  }
 },
 "nbformat": 4,
 "nbformat_minor": 5
}
